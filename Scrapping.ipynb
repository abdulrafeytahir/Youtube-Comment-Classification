{
 "cells": [
  {
   "cell_type": "code",
   "execution_count": 81,
   "metadata": {},
   "outputs": [],
   "source": [
    "# import libraries\n",
    "import pandas as pd\n",
    "import requests\n",
    "from bs4 import BeautifulSoup\n",
    "import lxml\n",
    "from selenium import webdriver\n",
    "import os\n",
    "import time\n",
    "import re"
   ]
  },
  {
   "cell_type": "code",
   "execution_count": 82,
   "metadata": {},
   "outputs": [],
   "source": [
    "# channel videos page url\n",
    "url = 'https://www.youtube.com/channel/UCMmaBzfCCwZ2KqaBJjkj0fw/videos'"
   ]
  },
  {
   "cell_type": "code",
   "execution_count": 83,
   "metadata": {},
   "outputs": [
    {
     "name": "stdout",
     "output_type": "stream",
     "text": [
      "Channel name: Kings and Generals\n"
     ]
    }
   ],
   "source": [
    "# load chrome driver and open url\n",
    "driver = webdriver.Chrome(os.getcwd() + '/chromedriver')\n",
    "driver.get(url)\n",
    "\n",
    "# get channel name\n",
    "channel_name = driver.find_element_by_xpath('//*[@class=\"style-scope ytd-channel-name\"]').text\n",
    "print('Channel name:', channel_name)\n",
    "\n",
    "# list to store all links in the channel playlist\n",
    "links = []\n",
    "\n",
    "# get to items tag and start scrolling\n",
    "video_section = driver.find_element_by_xpath('//*[@id=\"items\"]')\n",
    "driver.execute_script(\"arguments[0].scrollIntoView();\", video_section)\n",
    "last_height = driver.execute_script(\"return document.documentElement.scrollHeight\")\n",
    "time.sleep(5)\n",
    "while True:\n",
    "    # Scroll down to bottom\n",
    "    driver.execute_script(\"window.scrollTo(0, document.documentElement.scrollHeight);\")\n",
    "\n",
    "    # Wait to load page\n",
    "    time.sleep(2)\n",
    "    \n",
    "    # Calculate new scroll height and compare with last scroll height\n",
    "    new_height = driver.execute_script(\"return document.documentElement.scrollHeight\")\n",
    "    \n",
    "    if new_height == last_height:\n",
    "        break\n",
    "    last_height = new_height\n",
    "    \n",
    "driver.execute_script(\"window.scrollTo(0, document.documentElement.scrollHeight);\")\n",
    "\n",
    "# get video links from thumbnail and append in list\n",
    "videos = driver.find_elements_by_xpath('//*[@id=\"thumbnail\"]')\n",
    "for i in range(len(videos)):\n",
    "    link = videos[i].get_attribute(\"href\")\n",
    "    links.append(link)\n",
    "\n",
    "driver.close()"
   ]
  },
  {
   "cell_type": "code",
   "execution_count": 1,
   "metadata": {},
   "outputs": [],
   "source": [
    "video_comments = {}\n",
    "\n",
    "print(\"Total videos in Channel -->\", url, \":\", len(links))\n",
    "\n",
    "# iterate over links and save comments\n",
    "for i, link in enumerate(links):\n",
    "    print(\"video\", i+1, \"link:\", link)\n",
    "    # load driver and open video page\n",
    "    driver = webdriver.Chrome(os.getcwd() + '/chromedriver')\n",
    "    driver.get(link)\n",
    "    time.sleep(5)\n",
    "\n",
    "    # traverse to comment section\n",
    "    comment_section = driver.find_element_by_xpath('//*[@id=\"comments\"]')\n",
    "    driver.execute_script(\"arguments[0].scrollIntoView();\", comment_section)\n",
    "    time.sleep(7)\n",
    "\n",
    "    # get scroll height\n",
    "    last_height = driver.execute_script(\"return document.documentElement.scrollHeight\")\n",
    "    while True:\n",
    "        # Scroll down to bottom\n",
    "        driver.execute_script(\"window.scrollTo(0, document.documentElement.scrollHeight);\")\n",
    "\n",
    "        # Wait to load page\n",
    "        time.sleep(5)\n",
    "\n",
    "        # Calculate new scroll height and compare with last scroll height\n",
    "        new_height = driver.execute_script(\"return document.documentElement.scrollHeight\")\n",
    "        if new_height == last_height:\n",
    "            break\n",
    "        last_height = new_height\n",
    "\n",
    "    driver.execute_script(\"window.scrollTo(0, document.documentElement.scrollHeight);\")\n",
    "\n",
    "    # use regex to traverse emojis\n",
    "    emoji_pattern = re.compile(\"[\"\n",
    "                           u\"\\U0001F600-\\U0001F64F\"  \n",
    "                           u\"\\U0001F300-\\U0001F5FF\"\n",
    "                           u\"\\U0001F680-\\U0001F6FF\"\n",
    "                           u\"\\U0001F1E0-\\U0001F1FF\"\n",
    "                           \"]+\", flags=re.UNICODE)\n",
    "\n",
    "    # get names of people who commented\n",
    "    names = driver.find_elements_by_xpath('//*[@id=\"author-text\"]')\n",
    "\n",
    "    # get comment texts\n",
    "    comments = driver.find_elements_by_xpath('//*[@id=\"content-text\"]')\n",
    "\n",
    "    # iterate over comments and save in video_comments dictionary\n",
    "    for i in range(len(names)):\n",
    "        username = names[i].text\n",
    "        comment = comments[i].text \n",
    "        video_comments.update({username : comment})\n",
    "\n",
    "    driver.close()"
   ]
  },
  {
   "cell_type": "code",
   "execution_count": 85,
   "metadata": {},
   "outputs": [],
   "source": [
    "# convert dictionary to dataframe and save in a csv file\n",
    "channel_name = channel_name.lower().replace(' ', '_')\n",
    "file = channel_name + '_comments.csv'\n",
    "df = pd.DataFrame(list(video_comments.items()),columns = ['Username','Comment'])\n",
    "df.to_csv(file, index=False)"
   ]
  },
  {
   "cell_type": "code",
   "execution_count": null,
   "metadata": {},
   "outputs": [],
   "source": []
  }
 ],
 "metadata": {
  "kernelspec": {
   "display_name": "Python 3",
   "language": "python",
   "name": "python3"
  },
  "language_info": {
   "codemirror_mode": {
    "name": "ipython",
    "version": 3
   },
   "file_extension": ".py",
   "mimetype": "text/x-python",
   "name": "python",
   "nbconvert_exporter": "python",
   "pygments_lexer": "ipython3",
   "version": "3.7.6"
  }
 },
 "nbformat": 4,
 "nbformat_minor": 4
}
