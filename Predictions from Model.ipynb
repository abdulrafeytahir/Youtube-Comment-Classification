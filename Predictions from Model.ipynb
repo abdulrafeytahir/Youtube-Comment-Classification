{
 "cells": [
  {
   "cell_type": "code",
   "execution_count": 2,
   "metadata": {},
   "outputs": [],
   "source": [
    "# import packages\n",
    "import pickle\n",
    "import pandas as pd\n",
    "import nltk\n",
    "from nltk.stem import PorterStemmer\n",
    "import re\n",
    "from sklearn.feature_extraction.text import CountVectorizer\n",
    "from sklearn.feature_extraction.text import TfidfTransformer\n",
    "from nltk.corpus import stopwords"
   ]
  },
  {
   "cell_type": "markdown",
   "metadata": {},
   "source": [
    "### Load and Preprocess Data"
   ]
  },
  {
   "cell_type": "code",
   "execution_count": 3,
   "metadata": {
    "scrolled": true
   },
   "outputs": [
    {
     "data": {
      "text/plain": [
       "(3908, 3)"
      ]
     },
     "execution_count": 3,
     "metadata": {},
     "output_type": "execute_result"
    }
   ],
   "source": [
    "# read data file to annotate\n",
    "file = 'Felixje0.csv'\n",
    "df = pd.read_csv(file)\n",
    "df.shape"
   ]
  },
  {
   "cell_type": "code",
   "execution_count": 4,
   "metadata": {
    "scrolled": true
   },
   "outputs": [
    {
     "data": {
      "text/html": [
       "<div>\n",
       "<style scoped>\n",
       "    .dataframe tbody tr th:only-of-type {\n",
       "        vertical-align: middle;\n",
       "    }\n",
       "\n",
       "    .dataframe tbody tr th {\n",
       "        vertical-align: top;\n",
       "    }\n",
       "\n",
       "    .dataframe thead th {\n",
       "        text-align: right;\n",
       "    }\n",
       "</style>\n",
       "<table border=\"1\" class=\"dataframe\">\n",
       "  <thead>\n",
       "    <tr style=\"text-align: right;\">\n",
       "      <th></th>\n",
       "      <th>Label</th>\n",
       "      <th>Username</th>\n",
       "      <th>Comment</th>\n",
       "    </tr>\n",
       "  </thead>\n",
       "  <tbody>\n",
       "    <tr>\n",
       "      <th>0</th>\n",
       "      <td>NaN</td>\n",
       "      <td>Auktarrh Engrinis</td>\n",
       "      <td>6:58 It only arrive once the galaxy and the st...</td>\n",
       "    </tr>\n",
       "    <tr>\n",
       "      <th>1</th>\n",
       "      <td>NaN</td>\n",
       "      <td>Rob Byer</td>\n",
       "      <td>Lowko, you forgot about the greatest player, t...</td>\n",
       "    </tr>\n",
       "    <tr>\n",
       "      <th>2</th>\n",
       "      <td>NaN</td>\n",
       "      <td>Nátán Kende</td>\n",
       "      <td>A game of monsters.</td>\n",
       "    </tr>\n",
       "    <tr>\n",
       "      <th>3</th>\n",
       "      <td>NaN</td>\n",
       "      <td>Jakub Sobkowiak</td>\n",
       "      <td>Best StarCraft II player of all time?\\nOf cour...</td>\n",
       "    </tr>\n",
       "    <tr>\n",
       "      <th>4</th>\n",
       "      <td>NaN</td>\n",
       "      <td>Philip Lau</td>\n",
       "      <td>Bruh.... The SC2 GOAT is obviously Idra.\\n\\n\\n...</td>\n",
       "    </tr>\n",
       "  </tbody>\n",
       "</table>\n",
       "</div>"
      ],
      "text/plain": [
       "   Label           Username                                            Comment\n",
       "0    NaN  Auktarrh Engrinis  6:58 It only arrive once the galaxy and the st...\n",
       "1    NaN           Rob Byer  Lowko, you forgot about the greatest player, t...\n",
       "2    NaN        Nátán Kende                                A game of monsters.\n",
       "3    NaN    Jakub Sobkowiak  Best StarCraft II player of all time?\\nOf cour...\n",
       "4    NaN         Philip Lau  Bruh.... The SC2 GOAT is obviously Idra.\\n\\n\\n..."
      ]
     },
     "execution_count": 4,
     "metadata": {},
     "output_type": "execute_result"
    }
   ],
   "source": [
    "# print first couple of rows\n",
    "df.head()"
   ]
  },
  {
   "cell_type": "code",
   "execution_count": 5,
   "metadata": {},
   "outputs": [],
   "source": [
    "# remove rows with missing comment or username\n",
    "index = df[(df['Username'].isnull()) | (df['Comment'].isnull())].index\n",
    "df = df.drop(index)"
   ]
  },
  {
   "cell_type": "code",
   "execution_count": 7,
   "metadata": {},
   "outputs": [
    {
     "name": "stdout",
     "output_type": "stream",
     "text": [
      "   Label           Username                                            Comment\n",
      "0    NaN  Auktarrh Engrinis  6:58 It only arrive once the galaxy and the st...\n",
      "1    NaN           Rob Byer  Lowko, you forgot about the greatest player, t...\n",
      "2    NaN        Nátán Kende                                A game of monsters.\n",
      "3    NaN    Jakub Sobkowiak  Best StarCraft II player of all time?\\nOf cour...\n",
      "4    NaN         Philip Lau  Bruh.... The SC2 GOAT is obviously Idra.\\n\\n\\n...\n"
     ]
    }
   ],
   "source": [
    "# print a first couple of rows and make a copy of data\n",
    "print(df.head())\n",
    "\n",
    "# also make a copy of data and initialize stemmer\n",
    "c = 'Comment'\n",
    "data = df.copy()\n",
    "stopwords = stopwords.words('english')\n",
    "stemmer = PorterStemmer()"
   ]
  },
  {
   "cell_type": "code",
   "execution_count": 8,
   "metadata": {},
   "outputs": [],
   "source": [
    "# remove special characters\n",
    "data[c] = data[c].map(lambda x: re.sub(r'\\W', ' ', x))\n",
    "\n",
    "# replace multiple spaces with single space \n",
    "data[c] = data[c].map(lambda x: re.sub(r'\\s+', ' ', x, flags=re.I))\n",
    "\n",
    "# remove all single characters\n",
    "data[c] = data[c].map(lambda x:re.sub(r'\\s+[a-zA-Z]\\s+', ' ', x))\n",
    "\n",
    "# covert text to lower case\n",
    "data[c] = data[c].str.lower()\n",
    "\n",
    "# tokenize text\n",
    "data[c] = data[c].str.split()\n",
    "\n",
    "# apply stemming\n",
    "data[c] = data[c].map(lambda x: ' '.join([stemmer.stem(w) for w in x if w not in stopwords]))# check how many requests there are in the comments data"
   ]
  },
  {
   "cell_type": "markdown",
   "metadata": {},
   "source": [
    "### Load Model and Make Predictions "
   ]
  },
  {
   "cell_type": "code",
   "execution_count": 9,
   "metadata": {},
   "outputs": [],
   "source": [
    "# load classifier\n",
    "model = 'svm.pkl'\n",
    "model_data = pickle.load(open(model, 'rb'))\n",
    "classifier = model_data['clf']\n",
    "tfidf = model_data['tfidf']"
   ]
  },
  {
   "cell_type": "code",
   "execution_count": 10,
   "metadata": {},
   "outputs": [],
   "source": [
    "# generate tfidf features from comments\n",
    "X = tfidf.transform(data['Comment']).toarray()"
   ]
  },
  {
   "cell_type": "code",
   "execution_count": 11,
   "metadata": {},
   "outputs": [],
   "source": [
    "# predict labels from classifier\n",
    "labels = classifier.predict(X)\n",
    "df['Label'] = labels"
   ]
  },
  {
   "cell_type": "code",
   "execution_count": 14,
   "metadata": {},
   "outputs": [],
   "source": [
    "# filter out request comments and save in a csv file\n",
    "df[df['Label'] == 1].to_csv(file.replace('.csv', '_Labelled') + '.csv', index=False)"
   ]
  }
 ],
 "metadata": {
  "kernelspec": {
   "display_name": "Python 3",
   "language": "python",
   "name": "python3"
  },
  "language_info": {
   "codemirror_mode": {
    "name": "ipython",
    "version": 3
   },
   "file_extension": ".py",
   "mimetype": "text/x-python",
   "name": "python",
   "nbconvert_exporter": "python",
   "pygments_lexer": "ipython3",
   "version": "3.7.6"
  }
 },
 "nbformat": 4,
 "nbformat_minor": 4
}
