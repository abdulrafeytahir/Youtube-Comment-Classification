{
 "cells": [
  {
   "cell_type": "code",
   "execution_count": 1,
   "metadata": {},
   "outputs": [],
   "source": [
    "# importing libraries\n",
    "import pandas as pd\n",
    "import numpy as np\n",
    "import gensim\n",
    "import seaborn as sns\n",
    "import matplotlib.pyplot as plt\n",
    "import nltk\n",
    "from nltk.stem import PorterStemmer\n",
    "import re\n",
    "from sklearn.feature_extraction.text import TfidfVectorizer, CountVectorizer \n",
    "from nltk.corpus import stopwords\n",
    "from sklearn.ensemble import RandomForestClassifier\n",
    "from sklearn import svm\n",
    "from sklearn.model_selection import train_test_split\n",
    "from sklearn.metrics import classification_report, confusion_matrix, accuracy_score\n",
    "from sklearn.metrics import precision_recall_fscore_support\n",
    "from sklearn.metrics import plot_confusion_matrix\n",
    "import pickle\n",
    "# nltk.download('stopwords')\n",
    "sns.set(style=\"darkgrid\")"
   ]
  },
  {
   "cell_type": "markdown",
   "metadata": {},
   "source": [
    "### Data Preprocessing and Analysis"
   ]
  },
  {
   "cell_type": "code",
   "execution_count": 4,
   "metadata": {},
   "outputs": [],
   "source": [
    "# load data files\n",
    "files = ['Chris_1.csv', 'Chris_2.csv', 'Flamingo_1.csv']\n",
    "dataframes = []\n",
    "for file in files:\n",
    "    dataframes.append(pd.read_csv(file))"
   ]
  },
  {
   "cell_type": "code",
   "execution_count": 5,
   "metadata": {},
   "outputs": [
    {
     "data": {
      "text/plain": [
       "(7903, 3)"
      ]
     },
     "execution_count": 5,
     "metadata": {},
     "output_type": "execute_result"
    }
   ],
   "source": [
    "# merge all dataframes\n",
    "df = pd.concat(dataframes, sort=True)\n",
    "rows = df.shape[0]\n",
    "df.shape"
   ]
  },
  {
   "cell_type": "code",
   "execution_count": 6,
   "metadata": {},
   "outputs": [
    {
     "data": {
      "text/plain": [
       "Comment     8\n",
       "Label       0\n",
       "Username    1\n",
       "dtype: int64"
      ]
     },
     "execution_count": 6,
     "metadata": {},
     "output_type": "execute_result"
    }
   ],
   "source": [
    "# check for rows with null or missing vals\n",
    "df.isnull().sum()"
   ]
  },
  {
   "cell_type": "code",
   "execution_count": 7,
   "metadata": {
    "scrolled": true
   },
   "outputs": [
    {
     "name": "stdout",
     "output_type": "stream",
     "text": [
      "Removed 9 rows from data\n",
      "Dimensions of data (7894, 3)\n"
     ]
    }
   ],
   "source": [
    "# remove rows with missing vals\n",
    "df = df.dropna()\n",
    "print(\"Removed\", rows - df.shape[0] , \"rows from data\")\n",
    "print(\"Dimensions of data\", df.shape)"
   ]
  },
  {
   "cell_type": "code",
   "execution_count": 8,
   "metadata": {
    "scrolled": true
   },
   "outputs": [
    {
     "data": {
      "text/html": [
       "<div>\n",
       "<style scoped>\n",
       "    .dataframe tbody tr th:only-of-type {\n",
       "        vertical-align: middle;\n",
       "    }\n",
       "\n",
       "    .dataframe tbody tr th {\n",
       "        vertical-align: top;\n",
       "    }\n",
       "\n",
       "    .dataframe thead th {\n",
       "        text-align: right;\n",
       "    }\n",
       "</style>\n",
       "<table border=\"1\" class=\"dataframe\">\n",
       "  <thead>\n",
       "    <tr style=\"text-align: right;\">\n",
       "      <th></th>\n",
       "      <th>Comment</th>\n",
       "      <th>Label</th>\n",
       "      <th>Username</th>\n",
       "    </tr>\n",
       "  </thead>\n",
       "  <tbody>\n",
       "    <tr>\n",
       "      <th>count</th>\n",
       "      <td>7894</td>\n",
       "      <td>7894</td>\n",
       "      <td>7894</td>\n",
       "    </tr>\n",
       "    <tr>\n",
       "      <th>unique</th>\n",
       "      <td>7785</td>\n",
       "      <td>6</td>\n",
       "      <td>7572</td>\n",
       "    </tr>\n",
       "    <tr>\n",
       "      <th>top</th>\n",
       "      <td>a</td>\n",
       "      <td>0</td>\n",
       "      <td>Isaac Lee</td>\n",
       "    </tr>\n",
       "    <tr>\n",
       "      <th>freq</th>\n",
       "      <td>20</td>\n",
       "      <td>4853</td>\n",
       "      <td>19</td>\n",
       "    </tr>\n",
       "  </tbody>\n",
       "</table>\n",
       "</div>"
      ],
      "text/plain": [
       "       Comment Label   Username\n",
       "count     7894  7894       7894\n",
       "unique    7785     6       7572\n",
       "top          a     0  Isaac Lee\n",
       "freq        20  4853         19"
      ]
     },
     "execution_count": 8,
     "metadata": {},
     "output_type": "execute_result"
    }
   ],
   "source": [
    "# basic info about data \n",
    "df.describe()"
   ]
  },
  {
   "cell_type": "code",
   "execution_count": 9,
   "metadata": {
    "scrolled": true
   },
   "outputs": [
    {
     "name": "stdout",
     "output_type": "stream",
     "text": [
      "<class 'pandas.core.frame.DataFrame'>\n",
      "Int64Index: 7894 entries, 0 to 2595\n",
      "Data columns (total 3 columns):\n",
      "Comment     7894 non-null object\n",
      "Label       7894 non-null object\n",
      "Username    7894 non-null object\n",
      "dtypes: object(3)\n",
      "memory usage: 246.7+ KB\n"
     ]
    }
   ],
   "source": [
    "# some info about data\n",
    "df.info()"
   ]
  },
  {
   "cell_type": "code",
   "execution_count": 10,
   "metadata": {},
   "outputs": [
    {
     "data": {
      "text/plain": [
       "Comment     object\n",
       "Label       object\n",
       "Username    object\n",
       "dtype: object"
      ]
     },
     "execution_count": 10,
     "metadata": {},
     "output_type": "execute_result"
    }
   ],
   "source": [
    "# check data types\n",
    "df.dtypes"
   ]
  },
  {
   "cell_type": "code",
   "execution_count": 11,
   "metadata": {},
   "outputs": [
    {
     "data": {
      "text/plain": [
       "array(['0', '1', '-', 'q', 0, 1], dtype=object)"
      ]
     },
     "execution_count": 11,
     "metadata": {},
     "output_type": "execute_result"
    }
   ],
   "source": [
    "# check Label column in data\n",
    "df['Label'].unique()"
   ]
  },
  {
   "cell_type": "code",
   "execution_count": 15,
   "metadata": {},
   "outputs": [
    {
     "name": "stdout",
     "output_type": "stream",
     "text": [
      "Dropped rows whose label is not 0 or 1: 0\n"
     ]
    }
   ],
   "source": [
    "# remove rows with '-' as label in Label column\n",
    "index = df[(df['Label'] != '0') & (df['Label'] != '1') & (df['Label'] != 0) & (df['Label'] != 1)].index\n",
    "print(\"Dropped rows whose label is not 0 or 1:\", len(index))\n",
    "df = df.drop(index)"
   ]
  },
  {
   "cell_type": "code",
   "execution_count": 16,
   "metadata": {},
   "outputs": [
    {
     "data": {
      "text/plain": [
       "array([0, 1])"
      ]
     },
     "execution_count": 16,
     "metadata": {},
     "output_type": "execute_result"
    }
   ],
   "source": [
    "# convert remaining labels from string to integer format\n",
    "df['Label'] = df['Label'].astype(int)\n",
    "df['Label'].unique()"
   ]
  },
  {
   "cell_type": "code",
   "execution_count": 17,
   "metadata": {},
   "outputs": [],
   "source": [
    "# make copy of dataframe and initialize a stemmer\n",
    "c = 'Comment'\n",
    "data = df.copy()\n",
    "stopwords = stopwords.words('english')\n",
    "stemmer = PorterStemmer()"
   ]
  },
  {
   "cell_type": "code",
   "execution_count": 18,
   "metadata": {},
   "outputs": [],
   "source": [
    "# remove special characters\n",
    "data[c] = data[c].map(lambda x: re.sub(r'\\W', ' ', x))\n",
    "\n",
    "# replace multiple spaces with single space \n",
    "data[c] = data[c].map(lambda x: re.sub(r'\\s+', ' ', x, flags=re.I))\n",
    "\n",
    "# remove all single characters\n",
    "data[c] = data[c].map(lambda x:re.sub(r'\\s+[a-zA-Z]\\s+', ' ', x))\n",
    "\n",
    "# covert text to lower case\n",
    "data[c] = data[c].str.lower()\n",
    "\n",
    "# tokenize text\n",
    "data[c] = data[c].str.split()\n",
    "\n",
    "# apply stemming\n",
    "data[c] = data[c].map(lambda x: ' '.join([stemmer.stem(w) for w in x if w not in stopwords]))# check how many requests there are in the comments data"
   ]
  },
  {
   "cell_type": "code",
   "execution_count": 19,
   "metadata": {},
   "outputs": [
    {
     "name": "stdout",
     "output_type": "stream",
     "text": [
      "Comments that are requests: 997\n",
      "Comments that are not requests: 6893\n",
      "Percentage of requests in total comments data: 12.64 %\n"
     ]
    }
   ],
   "source": [
    "# check out the difference in distribution of request(1) vs. not-request comments(0)\n",
    "requests = df[df['Label'] == 1]\n",
    "not_requests = df[df['Label'] == 0]\n",
    "print(\"Comments that are requests:\", requests.shape[0])\n",
    "print(\"Comments that are not requests:\", not_requests.shape[0])\n",
    "print(\"Percentage of requests in total comments data:\", round(requests.shape[0]/df.shape[0] * 100, 2), \"%\")"
   ]
  },
  {
   "cell_type": "code",
   "execution_count": 20,
   "metadata": {},
   "outputs": [
    {
     "data": {
      "image/png": "[encoded data removed]",
      "text/plain": [
       "<Figure size 432x288 with 1 Axes>"
      ]
     },
     "metadata": {},
     "output_type": "display_data"
    }
   ],
   "source": [
    "# visualize distribution of request vs. not-request comments\n",
    "ax = sns.countplot(x=\"Label\", data=df)"
   ]
  },
  {
   "cell_type": "code",
   "execution_count": 21,
   "metadata": {},
   "outputs": [
    {
     "data": {
      "text/plain": [
       "(3064, 3)"
      ]
     },
     "execution_count": 21,
     "metadata": {},
     "output_type": "execute_result"
    }
   ],
   "source": [
    "# change distribution of data by removing half of not-request comments\n",
    "ratio = 0.3\n",
    "not_requests = not_requests.sample(int(not_requests.shape[0] * ratio))\n",
    "data = pd.concat([requests, not_requests])\n",
    "data.shape"
   ]
  },
  {
   "cell_type": "code",
   "execution_count": 22,
   "metadata": {},
   "outputs": [
    {
     "data": {
      "text/html": [
       "<div>\n",
       "<style scoped>\n",
       "    .dataframe tbody tr th:only-of-type {\n",
       "        vertical-align: middle;\n",
       "    }\n",
       "\n",
       "    .dataframe tbody tr th {\n",
       "        vertical-align: top;\n",
       "    }\n",
       "\n",
       "    .dataframe thead th {\n",
       "        text-align: right;\n",
       "    }\n",
       "</style>\n",
       "<table border=\"1\" class=\"dataframe\">\n",
       "  <thead>\n",
       "    <tr style=\"text-align: right;\">\n",
       "      <th></th>\n",
       "      <th>Comment</th>\n",
       "      <th>Label</th>\n",
       "      <th>Username</th>\n",
       "    </tr>\n",
       "  </thead>\n",
       "  <tbody>\n",
       "    <tr>\n",
       "      <th>0</th>\n",
       "      <td>Chris,please do review The Report on Amazon Pr...</td>\n",
       "      <td>1</td>\n",
       "      <td>Ashwin Varkey</td>\n",
       "    </tr>\n",
       "    <tr>\n",
       "      <th>1</th>\n",
       "      <td>Look up 'Chris Stuckmann Losing His Mind' on Y...</td>\n",
       "      <td>1</td>\n",
       "      <td>Nicholas Rytting</td>\n",
       "    </tr>\n",
       "    <tr>\n",
       "      <th>2</th>\n",
       "      <td>Chris there is a film Jalikattu. It’s mindblow...</td>\n",
       "      <td>1</td>\n",
       "      <td>kmkaks 2.0</td>\n",
       "    </tr>\n",
       "    <tr>\n",
       "      <th>3</th>\n",
       "      <td>Chris, please do top 10 movies of 2019</td>\n",
       "      <td>1</td>\n",
       "      <td>Aravind P</td>\n",
       "    </tr>\n",
       "    <tr>\n",
       "      <th>4</th>\n",
       "      <td>Hey chris, could you consider making a best mo...</td>\n",
       "      <td>1</td>\n",
       "      <td>ariff iqmal</td>\n",
       "    </tr>\n",
       "  </tbody>\n",
       "</table>\n",
       "</div>"
      ],
      "text/plain": [
       "                                             Comment  Label          Username\n",
       "0  Chris,please do review The Report on Amazon Pr...      1     Ashwin Varkey\n",
       "1  Look up 'Chris Stuckmann Losing His Mind' on Y...      1  Nicholas Rytting\n",
       "2  Chris there is a film Jalikattu. It’s mindblow...      1        kmkaks 2.0\n",
       "3             Chris, please do top 10 movies of 2019      1         Aravind P\n",
       "4  Hey chris, could you consider making a best mo...      1       ariff iqmal"
      ]
     },
     "execution_count": 22,
     "metadata": {},
     "output_type": "execute_result"
    }
   ],
   "source": [
    "# reset index\n",
    "data.reset_index(inplace=True, drop=True)\n",
    "data.head()"
   ]
  },
  {
   "cell_type": "code",
   "execution_count": 23,
   "metadata": {},
   "outputs": [
    {
     "data": {
      "image/png": "[encoded data removed]",
      "text/plain": [
       "<Figure size 432x288 with 1 Axes>"
      ]
     },
     "metadata": {},
     "output_type": "display_data"
    }
   ],
   "source": [
    "# now visualize the distribution of request vs. not-request comments\n",
    "ax = sns.countplot(x=\"Label\", data=data)"
   ]
  },
  {
   "cell_type": "markdown",
   "metadata": {},
   "source": [
    "### Feature Engineering"
   ]
  },
  {
   "cell_type": "code",
   "execution_count": 24,
   "metadata": {},
   "outputs": [],
   "source": [
    "# generate tf-idf vectors for comment column \n",
    "tfidf = TfidfVectorizer(ngram_range=(1, 2), max_features=2000)\n",
    "X = tfidf.fit_transform(data['Comment'])"
   ]
  },
  {
   "cell_type": "code",
   "execution_count": 25,
   "metadata": {},
   "outputs": [
    {
     "name": "stdout",
     "output_type": "stream",
     "text": [
      "Dimensions of train set (2451, 2000)\n",
      "Dimensions of validation set (613, 2000)\n"
     ]
    }
   ],
   "source": [
    "# train test split\n",
    "y = data['Label']\n",
    "X_train, X_test, y_train, y_test = train_test_split(X, y, test_size=0.2, random_state=0)\n",
    "print(\"Dimensions of train set\", X_train.shape)\n",
    "print(\"Dimensions of validation set\", X_test.shape)"
   ]
  },
  {
   "cell_type": "markdown",
   "metadata": {},
   "source": [
    "### Model Training"
   ]
  },
  {
   "cell_type": "code",
   "execution_count": 26,
   "metadata": {
    "scrolled": true
   },
   "outputs": [
    {
     "data": {
      "text/plain": [
       "SVC(C=1.0, break_ties=False, cache_size=200, class_weight=None, coef0=0.0,\n",
       "    decision_function_shape='ovr', degree=3, gamma='scale', kernel='linear',\n",
       "    max_iter=-1, probability=False, random_state=None, shrinking=True,\n",
       "    tol=0.001, verbose=False)"
      ]
     },
     "execution_count": 26,
     "metadata": {},
     "output_type": "execute_result"
    }
   ],
   "source": [
    "# train Linear SVM classifier\n",
    "classifier = svm.SVC(kernel='linear')\n",
    "classifier.fit(X_train, y_train) "
   ]
  },
  {
   "cell_type": "code",
   "execution_count": 27,
   "metadata": {
    "scrolled": true
   },
   "outputs": [
    {
     "name": "stdout",
     "output_type": "stream",
     "text": [
      "Classification Report:\n",
      "\n",
      "              precision    recall  f1-score   support\n",
      "\n",
      "           0       0.92      0.96      0.94       402\n",
      "           1       0.91      0.83      0.87       211\n",
      "\n",
      "    accuracy                           0.92       613\n",
      "   macro avg       0.91      0.90      0.90       613\n",
      "weighted avg       0.92      0.92      0.91       613\n",
      "\n",
      "Model Accuracy: 0.915\n"
     ]
    }
   ],
   "source": [
    "# make predictions on test set and print performance metrics\n",
    "y_pred = classifier.predict(X_test)\n",
    "print(\"Classification Report:\\n\")\n",
    "print(classification_report(y_test,y_pred))\n",
    "print(\"Model Accuracy:\", round(accuracy_score(y_test, y_pred), 3))"
   ]
  },
  {
   "cell_type": "code",
   "execution_count": 28,
   "metadata": {},
   "outputs": [
    {
     "name": "stdout",
     "output_type": "stream",
     "text": [
      "Precision: 0.9119170984455959\n",
      "Recall: 0.8341232227488151\n",
      "\n",
      "Confusion Matrix:\n",
      " [[385  17]\n",
      " [ 35 176]]\n"
     ]
    }
   ],
   "source": [
    "# print precision and recall scores for positive class (request --> 1)\n",
    "precision_recall = precision_recall_fscore_support(y_test, y_pred, average='binary')\n",
    "print('Precision:', precision_recall[0])\n",
    "print('Recall:', precision_recall[1])\n",
    "print(\"\\nConfusion Matrix:\\n\", confusion_matrix(y_test, y_pred))"
   ]
  },
  {
   "cell_type": "code",
   "execution_count": 29,
   "metadata": {},
   "outputs": [
    {
     "data": {
      "image/png": "[encoded data removed]",
      "text/plain": [
       "<Figure size 432x288 with 2 Axes>"
      ]
     },
     "metadata": {},
     "output_type": "display_data"
    }
   ],
   "source": [
    "# display confusion matrix\n",
    "disp = plot_confusion_matrix(classifier, X_test, y_test,\n",
    "                             display_labels=['not-request', 'request'],\n",
    "                             cmap=plt.cm.Blues,\n",
    "                             normalize=None)"
   ]
  },
  {
   "cell_type": "code",
   "execution_count": 30,
   "metadata": {},
   "outputs": [],
   "source": [
    "# create a dict to save classifier, countvectorizer and tfidf objects\n",
    "data = {'clf': classifier, 'tfidf': tfidf}\n",
    "\n",
    "# save model in a pickle file\n",
    "with open('svm.pkl', 'wb') as model:\n",
    "    pickle.dump(data, model)"
   ]
  },
  {
   "cell_type": "code",
   "execution_count": 129,
   "metadata": {},
   "outputs": [],
   "source": [
    "# precision = TP/ TP + FP\n",
    "# TP = comment was a request and the model classified it as request\n",
    "# FP = comment was not-request but model classified it as request\n",
    "\n",
    "# recall = TP / TP + FN\n",
    "# recall = ratio of comments that were classified as request over all the comments that are requests \n",
    "# TN = comment was not a request and the model classified it as not-request\n",
    "# FN = comment was a request but was classified as not-request"
   ]
  }
 ],
 "metadata": {
  "kernelspec": {
   "display_name": "Python 3",
   "language": "python",
   "name": "python3"
  },
  "language_info": {
   "codemirror_mode": {
    "name": "ipython",
    "version": 3
   },
   "file_extension": ".py",
   "mimetype": "text/x-python",
   "name": "python",
   "nbconvert_exporter": "python",
   "pygments_lexer": "ipython3",
   "version": "3.7.6"
  }
 },
 "nbformat": 4,
 "nbformat_minor": 4
}
